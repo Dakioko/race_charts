{
 "cells": [
  {
   "cell_type": "code",
   "execution_count": null,
   "id": "bbbeb369",
   "metadata": {
    "vscode": {
     "languageId": "plaintext"
    }
   },
   "outputs": [],
   "source": [
    "import pandas as pd\n",
    "import bar_chart_race as bcr\n",
    "\n",
    "data = pd.read_csv(\"Req.csv\")\n",
    "data = data.set_index('Date')\n",
    "bcr.bar_chart_race(\n",
    "    df=data,\n",
    "    filename='Requests_3.mp4',\n",
    "    title={\n",
    "        'label': 'SOPs Requests Over Time',\n",
    "        'size': 24,\n",
    "        'weight': 'bold',\n",
    "        'pad': 20\n",
    "    },\n",
    "    orientation='h',\n",
    "    sort='desc',\n",
    "    n_bars=10,\n",
    "    steps_per_period=30,  # Reduced from 45\n",
    "    period_length=1500,  # Reduced from 2000\n",
    "    fixed_max=True,\n",
    "    filter_column_colors=True,\n",
    "    period_label={\n",
    "        'x': .95, 'y': .15,\n",
    "        'ha': 'right',\n",
    "        'va': 'center',\n",
    "        'size': 24,  # Reduced from 72\n",
    "        'weight': 'semibold'\n",
    "    },\n",
    "    period_summary_func=lambda v, r: {\n",
    "        'x': .99, 'y': .1,\n",
    "        's': f'Total: {v.nlargest(52).sum():,.0f} requests',\n",
    "        'ha': 'right',\n",
    "        'size': 14,  # Reduced from 40\n",
    "        'weight': 'semibold'\n",
    "    },\n",
    "    fig_kwargs={\n",
    "        'figsize': (16, 9),  # More standard aspect ratio\n",
    "        'dpi': 120,\n",
    "        'facecolor': '#F8FAFF'\n",
    "    },\n",
    "    bar_label_font={'size': 12},  # Reduced from 27\n",
    "    tick_label_font={'size': 12},  # Reduced from 27\n",
    "    bar_kwargs={'alpha': 0.9, 'lw': 0, 'ec': 'white'},  # Added edge color\n",
    "    bar_texttemplate='{x:,.0f}',  # Added thousand separator\n",
    " \n",
    ")"
   ]
  }
 ],
 "metadata": {
  "language_info": {
   "name": "python"
  }
 },
 "nbformat": 4,
 "nbformat_minor": 5
}
